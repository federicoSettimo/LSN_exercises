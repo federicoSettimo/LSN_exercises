{
 "cells": [
  {
   "cell_type": "markdown",
   "metadata": {},
   "source": [
    "# <span style=\"color:green\"> Numerical Simulation Laboratory (NSL) </span>\n",
    "## <span style=\"color:blue\">  Numerical exercises 3</span>"
   ]
  },
  {
   "cell_type": "markdown",
   "metadata": {},
   "source": [
    "### Exercise 03.1 <span style=\"color:red\"> Plain vanilla option pricing </span>\n",
    "\n",
    "Black-Scholes theory assumes that the time evolution of the asset price is stochastic and exhibits geometric Brownian motion (GBM) with constant risk-free interest rate $r$ and volatility $\\sigma$.\n",
    "\n",
    "Black-Scholes <span style=\"color:blue\"> analytic solution </span> for the price at time t<T:\n",
    "- European Call-option price:\n",
    "$$ C\\left[ S(t),t \\right] = S(t) N(d_1) -K e^{-r(T-t)} N(d_2) $$\n",
    "- European Put-option price:\n",
    "$$ P\\left[ S(t),t \\right] = S(t) \\left[ N(d_1)-1\\right] -K e^{-r(T-t)} \\left[ N(d_2)-1\\right]$$\n",
    "\n",
    "where \n",
    "$$d_1 = \\frac{1}{\\sigma\\sqrt{T-t}}\\left[ \\ln \\left( \\frac{S(t)}{K} \\right) + \\left( r+\\frac{\\sigma^2}{2} (T-t) \\right)\\right]$$\n",
    "\n",
    "where $d_2 = d_1 - \\sigma\\sqrt{T-t}$, and where\n",
    "$$ N(x) = \\int_{-\\infty}^{x} dz \\, e^{-\\frac{z^2}{2}} = \\frac{1}{2} \\left[ 1+ {\\rm erf} \\left( \\frac{x}{\\sqrt{2}}\\right) \\right]$$\n",
    "is the cumulative of Gaussian $\\sim \\mathcal{N}(\\mu=0,\\sigma^2=1)$,\n",
    "and where\n",
    "$${\\rm erf}(x) = \\frac{2}{\\sqrt{\\pi}}\\int_{0}^{x} dz \\, e^{-z^2}$$"
   ]
  },
  {
   "cell_type": "markdown",
   "metadata": {},
   "source": [
    "By using the following parameters: \n",
    "- asset price at $t=0$: $S(0)=100$\n",
    "- delivery time: $T=1$\n",
    "- strike price: $K=100$\n",
    "- risk-free interest rate: $r=0.1$\n",
    "- volatility: $\\sigma=0.25$\n",
    "\n",
    "compute at time $t=0$ **via Monte Carlo** the European call-option price, $C[S(0),0]$, and put-option price, $P[S(0),0]$:"
   ]
  },
  {
   "cell_type": "markdown",
   "metadata": {},
   "source": [
    "1. <span style=\"color:red\"> By sampling **directly** the final asset price $S(T)$</span> for a $GBM(r,\\sigma^2)$"
   ]
  },
  {
   "cell_type": "code",
   "execution_count": 38,
   "metadata": {},
   "outputs": [
    {
     "data": {
      "image/png": "[encoded data removed]",
      "text/plain": [
       "<Figure size 432x288 with 1 Axes>"
      ]
     },
     "metadata": {
      "needs_background": "light"
     },
     "output_type": "display_data"
    }
   ],
   "source": [
    "import matplotlib\n",
    "import matplotlib.pyplot as plt\n",
    "import numpy as np\n",
    "\n",
    "filein = open(\"1/out1_P.txt\") # reading data from the output obtained with C++\n",
    "M = int(filein.readline())\n",
    "N = int(filein.readline())\n",
    "L = int(M/N)\n",
    "sum_prog = np.zeros(N)\n",
    "err_prog = np.zeros(N)\n",
    "x = np.arange(N)\n",
    "x*=L\n",
    "for i in range(N):\n",
    "    sum_prog[i] = float(filein.readline())\n",
    "for i in range(N):\n",
    "    err_prog[i] = float(filein.readline())\n",
    "filein.close()\n",
    "\n",
    "plt.errorbar(x,sum_prog,yerr=err_prog)\n",
    "plt.xlabel('#blocks')\n",
    "plt.ylabel(r'$<P[S(0),0]>$')\n",
    "#plt.ylim(5.45,5.47)\n",
    "plt.grid(True)\n",
    "plt.show()"
   ]
  },
  {
   "cell_type": "code",
   "execution_count": 39,
   "metadata": {},
   "outputs": [
    {
     "data": {
      "image/png": "[encoded data removed]",
      "text/plain": [
       "<Figure size 432x288 with 1 Axes>"
      ]
     },
     "metadata": {
      "needs_background": "light"
     },
     "output_type": "display_data"
    }
   ],
   "source": [
    "filein = open(\"1/out1_C.txt\")\n",
    "M = int(filein.readline())\n",
    "N = int(filein.readline())\n",
    "L = int(M/N)\n",
    "sum_prog = np.zeros(N)\n",
    "err_prog = np.zeros(N)\n",
    "x = np.arange(N)\n",
    "x*=L\n",
    "for i in range(N):\n",
    "    sum_prog[i] = float(filein.readline())\n",
    "for i in range(N):\n",
    "    err_prog[i] = float(filein.readline())\n",
    "filein.close()\n",
    "\n",
    "plt.errorbar(x,sum_prog,yerr=err_prog)\n",
    "plt.xlabel('#blocks')\n",
    "plt.ylabel(r'$<C[S(0),0]>$')\n",
    "plt.grid(True)\n",
    "plt.show()"
   ]
  },
  {
   "cell_type": "markdown",
   "metadata": {},
   "source": [
    "2. <span style=\"color:red\"> By sampling the discretized $GBM(r,\\sigma^2)$ path of the asset price</span> \n",
    "dividing $[0,T]$ in $10^2$ time intervals: $S(0)$, $S(t_1)$, $S(t_2)$, ... up to $S(t_{100}=T=1)$"
   ]
  },
  {
   "cell_type": "code",
   "execution_count": null,
   "metadata": {},
   "outputs": [],
   "source": []
  },
  {
   "cell_type": "markdown",
   "metadata": {},
   "source": [
    "<p style=\"border:2px; border-style:solid; border-color:#F5F5F5; padding: 1em; background-color:#F5F5F5\">\n",
    "    Remember that given an asset price $S\\sim GBM(\\mu,\\sigma^2)$, with initial value $S(0)$, then\n",
    "    $$S(t) = S(0) \\exp\\left[ \\left(\\mu-\\frac{1}{2}\\sigma^2\\right)t+\\sigma W(t)\\right]$$\n",
    "    where $W(t)\\sim\\mathcal{N}(0,t)$.\n",
    "    Moreover, since the increments of $W$ are independent and normally distributed, the simple recursive procedure for sampling discretized values of $S\\sim GBM(\\mu,\\sigma^2)$ at $t_1 < t_2 < … < t_n$ is:\n",
    "$$S(t_{i+1}) = S(t_i) \\exp\\left[ \\left(\\mu-\\frac{1}{2}\\sigma^2\\right)(t_{i+1}-t_i)\n",
    "    +\\sigma Z_{i+1}\\sqrt{t_{i+1}-t_i}\\right]$$\n",
    "    with $Z_i \\sim \\mathcal{N}(0,1)$\n",
    "</p>"
   ]
  },
  {
   "cell_type": "markdown",
   "metadata": {},
   "source": [
    "<span style=\"color:red\">Make four pictures for the estimation of the European call-option prices, $C[S(0),0]$ (direct and discretized), and put-option prices, $P[S(0),0]$ (direct and discretized), with their uncertainties </span> with a large number of asset prices at time $t=T$, say $M\\ge 10^4$, as a function of the number of blocks, $N$</font>. <span style=\"color:blue\"> As usual, in computing statistical uncertainties, use data blocking.</span>"
   ]
  },
  {
   "cell_type": "markdown",
   "metadata": {},
   "source": [
    "### For comparison, Black-Scholes analytic solution:"
   ]
  },
  {
   "cell_type": "code",
   "execution_count": 15,
   "metadata": {},
   "outputs": [
    {
     "name": "stdout",
     "output_type": "stream",
     "text": [
      " == BLACK-SCHOLES ==\n",
      "call:  14.975790778311286\n",
      "put:  5.4595325819072364\n"
     ]
    },
    {
     "name": "stderr",
     "output_type": "stream",
     "text": [
      "/Users/federico/miniconda3/lib/python3.7/site-packages/ipykernel_launcher.py:17: DeprecationWarning: scipy.sqrt is deprecated and will be removed in SciPy 2.0.0, use numpy.lib.scimath.sqrt instead\n",
      "/Users/federico/miniconda3/lib/python3.7/site-packages/ipykernel_launcher.py:17: DeprecationWarning: scipy.log is deprecated and will be removed in SciPy 2.0.0, use numpy.lib.scimath.log instead\n",
      "/Users/federico/miniconda3/lib/python3.7/site-packages/ipykernel_launcher.py:18: DeprecationWarning: scipy.sqrt is deprecated and will be removed in SciPy 2.0.0, use numpy.lib.scimath.sqrt instead\n",
      "/Users/federico/miniconda3/lib/python3.7/site-packages/ipykernel_launcher.py:14: DeprecationWarning: scipy.sqrt is deprecated and will be removed in SciPy 2.0.0, use numpy.lib.scimath.sqrt instead\n",
      "  \n",
      "/Users/federico/miniconda3/lib/python3.7/site-packages/ipykernel_launcher.py:19: DeprecationWarning: scipy.exp is deprecated and will be removed in SciPy 2.0.0, use numpy.exp instead\n",
      "/Users/federico/miniconda3/lib/python3.7/site-packages/ipykernel_launcher.py:20: DeprecationWarning: scipy.exp is deprecated and will be removed in SciPy 2.0.0, use numpy.exp instead\n"
     ]
    }
   ],
   "source": [
    "import scipy\n",
    "from scipy.special import erf\n",
    "from scipy import log, exp, sqrt\n",
    "\n",
    "# data\n",
    "S0 = 100.\n",
    "K = 100.\n",
    "T = 1.\n",
    "r = 0.1\n",
    "sigma = 0.25\n",
    "t=0\n",
    "\n",
    "def N(x):\n",
    "    return 0.5 * (1. + erf(x / sqrt(2.)))\n",
    "\n",
    "def black_scholes(S0, K, T, r, sigma):\n",
    "    d1 = 1./(sigma * sqrt(T)) * (log(S0 / K) + (r + (sigma**2) / 2.) * T)\n",
    "    d2 = d1 - sigma * sqrt(T)\n",
    "    C = S0 * N(d1) - K * exp(-r * T) * N(d2)\n",
    "    P = S0 *(N(d1) - 1.) - K * exp(-r * T) * (N(d2)-1.)\n",
    "    return C, P\n",
    "\n",
    "if __name__ == \"__main__\":\n",
    "    call, put = black_scholes(S0, K, T, r, sigma)\n",
    "    print(\" == BLACK-SCHOLES ==\")\n",
    "    print(\"call: \", call)\n",
    "    print(\"put: \", put)"
   ]
  },
  {
   "cell_type": "code",
   "execution_count": null,
   "metadata": {},
   "outputs": [],
   "source": []
  }
 ],
 "metadata": {
  "kernelspec": {
   "display_name": "Python 3",
   "language": "python",
   "name": "python3"
  },
  "language_info": {
   "codemirror_mode": {
    "name": "ipython",
    "version": 3
   },
   "file_extension": ".py",
   "mimetype": "text/x-python",
   "name": "python",
   "nbconvert_exporter": "python",
   "pygments_lexer": "ipython3",
   "version": "3.7.6"
  }
 },
 "nbformat": 4,
 "nbformat_minor": 2
}
